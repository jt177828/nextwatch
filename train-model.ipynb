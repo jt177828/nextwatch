{
 "cells": [
  {
   "cell_type": "code",
   "execution_count": 1,
   "id": "0c29bda7-1742-4180-a017-75957dda676c",
   "metadata": {},
   "outputs": [],
   "source": [
    "import pandas as pd"
   ]
  },
  {
   "cell_type": "code",
   "execution_count": 2,
   "id": "a37ac2c1-4d7f-4965-9f06-3f653096df9c",
   "metadata": {},
   "outputs": [],
   "source": [
    "df = pd.read_csv(\"netflix_titles.csv\")"
   ]
  },
  {
   "cell_type": "code",
   "execution_count": 3,
   "id": "51a3d14b",
   "metadata": {},
   "outputs": [],
   "source": [
    "df = df.drop(\"date_added\", axis=1).reset_index(drop=True)\n",
    "df = df.drop(\"cast\", axis=1).reset_index(drop=True)\n",
    "df = df.drop(\"rating\", axis=1).reset_index(drop=True)\n",
    "df = df.drop(\"duration\", axis=1).reset_index(drop=True)"
   ]
  },
  {
   "cell_type": "code",
   "execution_count": 4,
   "id": "0b914f38",
   "metadata": {},
   "outputs": [],
   "source": [
    "df['director'] = df['director'].fillna('Unknown')\n",
    "df['country'] = df['country'].fillna('Unknown')"
   ]
  },
  {
   "cell_type": "code",
   "execution_count": 5,
   "id": "f931806d",
   "metadata": {},
   "outputs": [],
   "source": [
    "df = df[df['type'] == 'TV Show'].reset_index()"
   ]
  },
  {
   "cell_type": "code",
   "execution_count": 6,
   "id": "6eb7c0cc",
   "metadata": {},
   "outputs": [
    {
     "data": {
      "text/plain": [
       "(2676, 9)"
      ]
     },
     "execution_count": 6,
     "metadata": {},
     "output_type": "execute_result"
    }
   ],
   "source": [
    "df.shape"
   ]
  },
  {
   "cell_type": "code",
   "execution_count": 7,
   "id": "d2d028f5",
   "metadata": {},
   "outputs": [
    {
     "data": {
      "text/plain": [
       "index           0\n",
       "show_id         0\n",
       "type            0\n",
       "title           0\n",
       "director        0\n",
       "country         0\n",
       "release_year    0\n",
       "listed_in       0\n",
       "description     0\n",
       "dtype: int64"
      ]
     },
     "execution_count": 7,
     "metadata": {},
     "output_type": "execute_result"
    }
   ],
   "source": [
    "df.isnull().sum()"
   ]
  },
  {
   "cell_type": "code",
   "execution_count": 8,
   "id": "b5de0be8",
   "metadata": {},
   "outputs": [
    {
     "data": {
      "text/html": [
       "<div>\n",
       "<style scoped>\n",
       "    .dataframe tbody tr th:only-of-type {\n",
       "        vertical-align: middle;\n",
       "    }\n",
       "\n",
       "    .dataframe tbody tr th {\n",
       "        vertical-align: top;\n",
       "    }\n",
       "\n",
       "    .dataframe thead th {\n",
       "        text-align: right;\n",
       "    }\n",
       "</style>\n",
       "<table border=\"1\" class=\"dataframe\">\n",
       "  <thead>\n",
       "    <tr style=\"text-align: right;\">\n",
       "      <th></th>\n",
       "      <th>index</th>\n",
       "      <th>show_id</th>\n",
       "      <th>type</th>\n",
       "      <th>title</th>\n",
       "      <th>director</th>\n",
       "      <th>country</th>\n",
       "      <th>release_year</th>\n",
       "      <th>listed_in</th>\n",
       "      <th>description</th>\n",
       "    </tr>\n",
       "  </thead>\n",
       "  <tbody>\n",
       "    <tr>\n",
       "      <th>0</th>\n",
       "      <td>1</td>\n",
       "      <td>s2</td>\n",
       "      <td>TV Show</td>\n",
       "      <td>Blood &amp; Water</td>\n",
       "      <td>Unknown</td>\n",
       "      <td>South Africa</td>\n",
       "      <td>2021</td>\n",
       "      <td>International TV Shows, TV Dramas, TV Mysteries</td>\n",
       "      <td>After crossing paths at a party, a Cape Town t...</td>\n",
       "    </tr>\n",
       "    <tr>\n",
       "      <th>1</th>\n",
       "      <td>2</td>\n",
       "      <td>s3</td>\n",
       "      <td>TV Show</td>\n",
       "      <td>Ganglands</td>\n",
       "      <td>Julien Leclercq</td>\n",
       "      <td>Unknown</td>\n",
       "      <td>2021</td>\n",
       "      <td>Crime TV Shows, International TV Shows, TV Act...</td>\n",
       "      <td>To protect his family from a powerful drug lor...</td>\n",
       "    </tr>\n",
       "    <tr>\n",
       "      <th>2</th>\n",
       "      <td>3</td>\n",
       "      <td>s4</td>\n",
       "      <td>TV Show</td>\n",
       "      <td>Jailbirds New Orleans</td>\n",
       "      <td>Unknown</td>\n",
       "      <td>Unknown</td>\n",
       "      <td>2021</td>\n",
       "      <td>Docuseries, Reality TV</td>\n",
       "      <td>Feuds, flirtations and toilet talk go down amo...</td>\n",
       "    </tr>\n",
       "    <tr>\n",
       "      <th>3</th>\n",
       "      <td>4</td>\n",
       "      <td>s5</td>\n",
       "      <td>TV Show</td>\n",
       "      <td>Kota Factory</td>\n",
       "      <td>Unknown</td>\n",
       "      <td>India</td>\n",
       "      <td>2021</td>\n",
       "      <td>International TV Shows, Romantic TV Shows, TV ...</td>\n",
       "      <td>In a city of coaching centers known to train I...</td>\n",
       "    </tr>\n",
       "    <tr>\n",
       "      <th>4</th>\n",
       "      <td>5</td>\n",
       "      <td>s6</td>\n",
       "      <td>TV Show</td>\n",
       "      <td>Midnight Mass</td>\n",
       "      <td>Mike Flanagan</td>\n",
       "      <td>Unknown</td>\n",
       "      <td>2021</td>\n",
       "      <td>TV Dramas, TV Horror, TV Mysteries</td>\n",
       "      <td>The arrival of a charismatic young priest brin...</td>\n",
       "    </tr>\n",
       "  </tbody>\n",
       "</table>\n",
       "</div>"
      ],
      "text/plain": [
       "   index show_id     type                  title         director  \\\n",
       "0      1      s2  TV Show          Blood & Water          Unknown   \n",
       "1      2      s3  TV Show              Ganglands  Julien Leclercq   \n",
       "2      3      s4  TV Show  Jailbirds New Orleans          Unknown   \n",
       "3      4      s5  TV Show           Kota Factory          Unknown   \n",
       "4      5      s6  TV Show          Midnight Mass    Mike Flanagan   \n",
       "\n",
       "        country  release_year  \\\n",
       "0  South Africa          2021   \n",
       "1       Unknown          2021   \n",
       "2       Unknown          2021   \n",
       "3         India          2021   \n",
       "4       Unknown          2021   \n",
       "\n",
       "                                           listed_in  \\\n",
       "0    International TV Shows, TV Dramas, TV Mysteries   \n",
       "1  Crime TV Shows, International TV Shows, TV Act...   \n",
       "2                             Docuseries, Reality TV   \n",
       "3  International TV Shows, Romantic TV Shows, TV ...   \n",
       "4                 TV Dramas, TV Horror, TV Mysteries   \n",
       "\n",
       "                                         description  \n",
       "0  After crossing paths at a party, a Cape Town t...  \n",
       "1  To protect his family from a powerful drug lor...  \n",
       "2  Feuds, flirtations and toilet talk go down amo...  \n",
       "3  In a city of coaching centers known to train I...  \n",
       "4  The arrival of a charismatic young priest brin...  "
      ]
     },
     "execution_count": 8,
     "metadata": {},
     "output_type": "execute_result"
    }
   ],
   "source": [
    "df.head()"
   ]
  },
  {
   "cell_type": "code",
   "execution_count": 9,
   "id": "6d2f78f3",
   "metadata": {},
   "outputs": [],
   "source": [
    "import re\n",
    "import nltk\n",
    "from nltk.corpus import stopwords\n",
    "from nltk.stem import WordNetLemmatizer"
   ]
  },
  {
   "cell_type": "code",
   "execution_count": 10,
   "id": "2586cb00",
   "metadata": {},
   "outputs": [],
   "source": [
    "stop_words = set(stopwords.words('english'))\n",
    "lemmatizer = WordNetLemmatizer()"
   ]
  },
  {
   "cell_type": "code",
   "execution_count": 11,
   "id": "759e1e9f",
   "metadata": {},
   "outputs": [],
   "source": [
    "def preprocess(text):\n",
    "    \"\"\"\n",
    "    3-step cleaning:\n",
    "    1. Basic normalization\n",
    "    2. Stopword removal\n",
    "    3. Lemmatization\n",
    "    \"\"\"\n",
    "    if pd.isna(text):\n",
    "        return \"\"\n",
    "    \n",
    "    # Step 1: Normalize\n",
    "    text = str(text).lower()\n",
    "    text = re.sub(r'[^a-z0-9\\s-]', '', text)  # Keep alphanumeric+hyphens\n",
    "    \n",
    "    # Step 2: Tokenize and remove stopwords\n",
    "    tokens = [word for word in text.split() \n",
    "              if word not in stop_words and len(word) > 2]\n",
    "    \n",
    "    # Step 3: Lemmatize (gentler than stemming)\n",
    "    tokens = [lemmatizer.lemmatize(word) for word in tokens]\n",
    "    \n",
    "    return \" \".join(tokens)"
   ]
  },
  {
   "cell_type": "code",
   "execution_count": 15,
   "id": "4c57e37e",
   "metadata": {},
   "outputs": [],
   "source": [
    "df['description'] = df['description'].apply(preprocess)\n",
    "df['listed_in'] = df['listed_in'].apply(preprocess)"
   ]
  },
  {
   "cell_type": "code",
   "execution_count": 16,
   "id": "24699aed",
   "metadata": {},
   "outputs": [],
   "source": [
    "df['combined_features'] = 5 * (' ' + df['listed_in'] + ' ') + ' ' + 4 * (' ' + df['description'] + ' ') + ' ' + 2 * (' ' + df['director'] + ' ') + ' ' + df['country']"
   ]
  },
  {
   "cell_type": "code",
   "execution_count": 17,
   "id": "a0f16834",
   "metadata": {},
   "outputs": [
    {
     "data": {
      "text/html": [
       "<div>\n",
       "<style scoped>\n",
       "    .dataframe tbody tr th:only-of-type {\n",
       "        vertical-align: middle;\n",
       "    }\n",
       "\n",
       "    .dataframe tbody tr th {\n",
       "        vertical-align: top;\n",
       "    }\n",
       "\n",
       "    .dataframe thead th {\n",
       "        text-align: right;\n",
       "    }\n",
       "</style>\n",
       "<table border=\"1\" class=\"dataframe\">\n",
       "  <thead>\n",
       "    <tr style=\"text-align: right;\">\n",
       "      <th></th>\n",
       "      <th>index</th>\n",
       "      <th>show_id</th>\n",
       "      <th>type</th>\n",
       "      <th>title</th>\n",
       "      <th>director</th>\n",
       "      <th>country</th>\n",
       "      <th>release_year</th>\n",
       "      <th>listed_in</th>\n",
       "      <th>description</th>\n",
       "      <th>combined_features</th>\n",
       "    </tr>\n",
       "  </thead>\n",
       "  <tbody>\n",
       "    <tr>\n",
       "      <th>0</th>\n",
       "      <td>1</td>\n",
       "      <td>s2</td>\n",
       "      <td>TV Show</td>\n",
       "      <td>Blood &amp; Water</td>\n",
       "      <td>Unknown</td>\n",
       "      <td>South Africa</td>\n",
       "      <td>2021</td>\n",
       "      <td>international show drama mystery</td>\n",
       "      <td>crossing path party cape town teen set prove w...</td>\n",
       "      <td>international show drama mystery  internation...</td>\n",
       "    </tr>\n",
       "    <tr>\n",
       "      <th>1</th>\n",
       "      <td>2</td>\n",
       "      <td>s3</td>\n",
       "      <td>TV Show</td>\n",
       "      <td>Ganglands</td>\n",
       "      <td>Julien Leclercq</td>\n",
       "      <td>Unknown</td>\n",
       "      <td>2021</td>\n",
       "      <td>crime show international show action adventure</td>\n",
       "      <td>protect family powerful drug lord skilled thie...</td>\n",
       "      <td>crime show international show action adventur...</td>\n",
       "    </tr>\n",
       "    <tr>\n",
       "      <th>2</th>\n",
       "      <td>3</td>\n",
       "      <td>s4</td>\n",
       "      <td>TV Show</td>\n",
       "      <td>Jailbirds New Orleans</td>\n",
       "      <td>Unknown</td>\n",
       "      <td>Unknown</td>\n",
       "      <td>2021</td>\n",
       "      <td>docuseries reality</td>\n",
       "      <td>feud flirtation toilet talk among incarcerated...</td>\n",
       "      <td>docuseries reality  docuseries reality  docus...</td>\n",
       "    </tr>\n",
       "    <tr>\n",
       "      <th>3</th>\n",
       "      <td>4</td>\n",
       "      <td>s5</td>\n",
       "      <td>TV Show</td>\n",
       "      <td>Kota Factory</td>\n",
       "      <td>Unknown</td>\n",
       "      <td>India</td>\n",
       "      <td>2021</td>\n",
       "      <td>international show romantic show comedy</td>\n",
       "      <td>city coaching center known train india finest ...</td>\n",
       "      <td>international show romantic show comedy  inte...</td>\n",
       "    </tr>\n",
       "    <tr>\n",
       "      <th>4</th>\n",
       "      <td>5</td>\n",
       "      <td>s6</td>\n",
       "      <td>TV Show</td>\n",
       "      <td>Midnight Mass</td>\n",
       "      <td>Mike Flanagan</td>\n",
       "      <td>Unknown</td>\n",
       "      <td>2021</td>\n",
       "      <td>drama horror mystery</td>\n",
       "      <td>arrival charismatic young priest brings glorio...</td>\n",
       "      <td>drama horror mystery  drama horror mystery  d...</td>\n",
       "    </tr>\n",
       "  </tbody>\n",
       "</table>\n",
       "</div>"
      ],
      "text/plain": [
       "   index show_id     type                  title         director  \\\n",
       "0      1      s2  TV Show          Blood & Water          Unknown   \n",
       "1      2      s3  TV Show              Ganglands  Julien Leclercq   \n",
       "2      3      s4  TV Show  Jailbirds New Orleans          Unknown   \n",
       "3      4      s5  TV Show           Kota Factory          Unknown   \n",
       "4      5      s6  TV Show          Midnight Mass    Mike Flanagan   \n",
       "\n",
       "        country  release_year                                       listed_in  \\\n",
       "0  South Africa          2021                international show drama mystery   \n",
       "1       Unknown          2021  crime show international show action adventure   \n",
       "2       Unknown          2021                              docuseries reality   \n",
       "3         India          2021         international show romantic show comedy   \n",
       "4       Unknown          2021                            drama horror mystery   \n",
       "\n",
       "                                         description  \\\n",
       "0  crossing path party cape town teen set prove w...   \n",
       "1  protect family powerful drug lord skilled thie...   \n",
       "2  feud flirtation toilet talk among incarcerated...   \n",
       "3  city coaching center known train india finest ...   \n",
       "4  arrival charismatic young priest brings glorio...   \n",
       "\n",
       "                                   combined_features  \n",
       "0   international show drama mystery  internation...  \n",
       "1   crime show international show action adventur...  \n",
       "2   docuseries reality  docuseries reality  docus...  \n",
       "3   international show romantic show comedy  inte...  \n",
       "4   drama horror mystery  drama horror mystery  d...  "
      ]
     },
     "execution_count": 17,
     "metadata": {},
     "output_type": "execute_result"
    }
   ],
   "source": [
    "df.head()"
   ]
  },
  {
   "cell_type": "code",
   "execution_count": 18,
   "id": "b611be6f",
   "metadata": {},
   "outputs": [],
   "source": [
    "from sklearn.feature_extraction.text import TfidfVectorizer\n",
    "from sklearn.metrics.pairwise import cosine_distances"
   ]
  },
  {
   "cell_type": "code",
   "execution_count": 19,
   "id": "1df6abd6",
   "metadata": {},
   "outputs": [],
   "source": [
    "tfid = TfidfVectorizer(analyzer='word', stop_words='english')"
   ]
  },
  {
   "cell_type": "code",
   "execution_count": 20,
   "id": "81beb128",
   "metadata": {},
   "outputs": [],
   "source": [
    "matrix = tfid.fit_transform(df['combined_features'])"
   ]
  },
  {
   "cell_type": "code",
   "execution_count": 21,
   "id": "3cd8ead4",
   "metadata": {},
   "outputs": [],
   "source": [
    "similarity_matrix = cosine_distances(matrix)"
   ]
  },
  {
   "cell_type": "code",
   "execution_count": 22,
   "id": "dfe8af76",
   "metadata": {},
   "outputs": [
    {
     "data": {
      "text/plain": [
       "(2676, 2676)"
      ]
     },
     "execution_count": 22,
     "metadata": {},
     "output_type": "execute_result"
    }
   ],
   "source": [
    "similarity_matrix.shape"
   ]
  },
  {
   "cell_type": "code",
   "execution_count": 23,
   "id": "0c7f1d26",
   "metadata": {},
   "outputs": [],
   "source": [
    "def recommend(title):\n",
    "    indx = df[df['title'].str.lower() == title.lower()].index[0]\n",
    "\n",
    "    distances = sorted(list(enumerate(similarity_matrix[indx])), reverse = True, key = lambda x: x[1])\n",
    "\n",
    "    shows = []\n",
    "    for i in distances[1:20]:\n",
    "        shows.append(df.iloc[i[0]].title)\n",
    "    return shows"
   ]
  },
  {
   "cell_type": "code",
   "execution_count": 25,
   "id": "4179cf99",
   "metadata": {},
   "outputs": [
    {
     "data": {
      "text/plain": [
       "['Office Girls',\n",
       " 'Sab Jholmaal Hai',\n",
       " \"Let's Fight Ghost\",\n",
       " 'Men on a Mission',\n",
       " 'Nevenka: Breaking the Silence',\n",
       " 'The House Arrest of Us',\n",
       " 'Anitta: Made In Honório',\n",
       " 'Before 30',\n",
       " 'Afronta! Facing It!',\n",
       " 'The Devil Punisher',\n",
       " 'Dating Around: Brazil',\n",
       " 'Trailer Park Boys: The Animated Series',\n",
       " 'Almost Happy',\n",
       " 'Fary : Hexagone',\n",
       " 'Velvet',\n",
       " 'Six Windows in the Desert',\n",
       " 'Bring It On, Ghost',\n",
       " 'Cheese in the Trap',\n",
       " 'Reply 1994']"
      ]
     },
     "execution_count": 25,
     "metadata": {},
     "output_type": "execute_result"
    }
   ],
   "source": [
    "recommend(\"narcos\")"
   ]
  },
  {
   "cell_type": "code",
   "execution_count": null,
   "id": "cc11ed89",
   "metadata": {},
   "outputs": [],
   "source": []
  }
 ],
 "metadata": {
  "kernelspec": {
   "display_name": "Python 3",
   "language": "python",
   "name": "python3"
  },
  "language_info": {
   "codemirror_mode": {
    "name": "ipython",
    "version": 3
   },
   "file_extension": ".py",
   "mimetype": "text/x-python",
   "name": "python",
   "nbconvert_exporter": "python",
   "pygments_lexer": "ipython3",
   "version": "3.11.9"
  }
 },
 "nbformat": 4,
 "nbformat_minor": 5
}
