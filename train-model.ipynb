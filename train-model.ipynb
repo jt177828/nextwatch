{
 "cells": [
  {
   "cell_type": "code",
   "execution_count": 29,
   "id": "0c29bda7-1742-4180-a017-75957dda676c",
   "metadata": {},
   "outputs": [],
   "source": [
    "import pandas as pd"
   ]
  },
  {
   "cell_type": "code",
   "execution_count": 30,
   "id": "a37ac2c1-4d7f-4965-9f06-3f653096df9c",
   "metadata": {},
   "outputs": [],
   "source": [
    "df = pd.read_csv(\"netflix_titles.csv\")"
   ]
  },
  {
   "cell_type": "code",
   "execution_count": 31,
   "id": "51a3d14b",
   "metadata": {},
   "outputs": [],
   "source": [
    "df = df.drop(\"date_added\", axis=1).reset_index(drop=True)\n",
    "df = df.drop(\"cast\", axis=1).reset_index(drop=True)\n",
    "df = df.drop(\"rating\", axis=1).reset_index(drop=True)\n",
    "df = df.drop(\"duration\", axis=1).reset_index(drop=True)"
   ]
  },
  {
   "cell_type": "code",
   "execution_count": 32,
   "id": "0b914f38",
   "metadata": {},
   "outputs": [],
   "source": [
    "df['director'] = df['director'].fillna('Unknown')\n",
    "df['country'] = df['country'].fillna('Unknown')"
   ]
  },
  {
   "cell_type": "code",
   "execution_count": 33,
   "id": "f931806d",
   "metadata": {},
   "outputs": [],
   "source": [
    "df = df[df['type'] == 'TV Show'].reset_index()"
   ]
  },
  {
   "cell_type": "code",
   "execution_count": 34,
   "id": "6eb7c0cc",
   "metadata": {},
   "outputs": [
    {
     "data": {
      "text/plain": [
       "(2676, 9)"
      ]
     },
     "execution_count": 34,
     "metadata": {},
     "output_type": "execute_result"
    }
   ],
   "source": [
    "df.shape"
   ]
  },
  {
   "cell_type": "code",
   "execution_count": 35,
   "id": "d2d028f5",
   "metadata": {},
   "outputs": [
    {
     "data": {
      "text/plain": [
       "index           0\n",
       "show_id         0\n",
       "type            0\n",
       "title           0\n",
       "director        0\n",
       "country         0\n",
       "release_year    0\n",
       "listed_in       0\n",
       "description     0\n",
       "dtype: int64"
      ]
     },
     "execution_count": 35,
     "metadata": {},
     "output_type": "execute_result"
    }
   ],
   "source": [
    "df.isnull().sum()"
   ]
  },
  {
   "cell_type": "code",
   "execution_count": 36,
   "id": "b5de0be8",
   "metadata": {},
   "outputs": [
    {
     "data": {
      "text/html": [
       "<div>\n",
       "<style scoped>\n",
       "    .dataframe tbody tr th:only-of-type {\n",
       "        vertical-align: middle;\n",
       "    }\n",
       "\n",
       "    .dataframe tbody tr th {\n",
       "        vertical-align: top;\n",
       "    }\n",
       "\n",
       "    .dataframe thead th {\n",
       "        text-align: right;\n",
       "    }\n",
       "</style>\n",
       "<table border=\"1\" class=\"dataframe\">\n",
       "  <thead>\n",
       "    <tr style=\"text-align: right;\">\n",
       "      <th></th>\n",
       "      <th>index</th>\n",
       "      <th>show_id</th>\n",
       "      <th>type</th>\n",
       "      <th>title</th>\n",
       "      <th>director</th>\n",
       "      <th>country</th>\n",
       "      <th>release_year</th>\n",
       "      <th>listed_in</th>\n",
       "      <th>description</th>\n",
       "    </tr>\n",
       "  </thead>\n",
       "  <tbody>\n",
       "    <tr>\n",
       "      <th>0</th>\n",
       "      <td>1</td>\n",
       "      <td>s2</td>\n",
       "      <td>TV Show</td>\n",
       "      <td>Blood &amp; Water</td>\n",
       "      <td>Unknown</td>\n",
       "      <td>South Africa</td>\n",
       "      <td>2021</td>\n",
       "      <td>International TV Shows, TV Dramas, TV Mysteries</td>\n",
       "      <td>After crossing paths at a party, a Cape Town t...</td>\n",
       "    </tr>\n",
       "    <tr>\n",
       "      <th>1</th>\n",
       "      <td>2</td>\n",
       "      <td>s3</td>\n",
       "      <td>TV Show</td>\n",
       "      <td>Ganglands</td>\n",
       "      <td>Julien Leclercq</td>\n",
       "      <td>Unknown</td>\n",
       "      <td>2021</td>\n",
       "      <td>Crime TV Shows, International TV Shows, TV Act...</td>\n",
       "      <td>To protect his family from a powerful drug lor...</td>\n",
       "    </tr>\n",
       "    <tr>\n",
       "      <th>2</th>\n",
       "      <td>3</td>\n",
       "      <td>s4</td>\n",
       "      <td>TV Show</td>\n",
       "      <td>Jailbirds New Orleans</td>\n",
       "      <td>Unknown</td>\n",
       "      <td>Unknown</td>\n",
       "      <td>2021</td>\n",
       "      <td>Docuseries, Reality TV</td>\n",
       "      <td>Feuds, flirtations and toilet talk go down amo...</td>\n",
       "    </tr>\n",
       "    <tr>\n",
       "      <th>3</th>\n",
       "      <td>4</td>\n",
       "      <td>s5</td>\n",
       "      <td>TV Show</td>\n",
       "      <td>Kota Factory</td>\n",
       "      <td>Unknown</td>\n",
       "      <td>India</td>\n",
       "      <td>2021</td>\n",
       "      <td>International TV Shows, Romantic TV Shows, TV ...</td>\n",
       "      <td>In a city of coaching centers known to train I...</td>\n",
       "    </tr>\n",
       "    <tr>\n",
       "      <th>4</th>\n",
       "      <td>5</td>\n",
       "      <td>s6</td>\n",
       "      <td>TV Show</td>\n",
       "      <td>Midnight Mass</td>\n",
       "      <td>Mike Flanagan</td>\n",
       "      <td>Unknown</td>\n",
       "      <td>2021</td>\n",
       "      <td>TV Dramas, TV Horror, TV Mysteries</td>\n",
       "      <td>The arrival of a charismatic young priest brin...</td>\n",
       "    </tr>\n",
       "  </tbody>\n",
       "</table>\n",
       "</div>"
      ],
      "text/plain": [
       "   index show_id     type                  title         director  \\\n",
       "0      1      s2  TV Show          Blood & Water          Unknown   \n",
       "1      2      s3  TV Show              Ganglands  Julien Leclercq   \n",
       "2      3      s4  TV Show  Jailbirds New Orleans          Unknown   \n",
       "3      4      s5  TV Show           Kota Factory          Unknown   \n",
       "4      5      s6  TV Show          Midnight Mass    Mike Flanagan   \n",
       "\n",
       "        country  release_year  \\\n",
       "0  South Africa          2021   \n",
       "1       Unknown          2021   \n",
       "2       Unknown          2021   \n",
       "3         India          2021   \n",
       "4       Unknown          2021   \n",
       "\n",
       "                                           listed_in  \\\n",
       "0    International TV Shows, TV Dramas, TV Mysteries   \n",
       "1  Crime TV Shows, International TV Shows, TV Act...   \n",
       "2                             Docuseries, Reality TV   \n",
       "3  International TV Shows, Romantic TV Shows, TV ...   \n",
       "4                 TV Dramas, TV Horror, TV Mysteries   \n",
       "\n",
       "                                         description  \n",
       "0  After crossing paths at a party, a Cape Town t...  \n",
       "1  To protect his family from a powerful drug lor...  \n",
       "2  Feuds, flirtations and toilet talk go down amo...  \n",
       "3  In a city of coaching centers known to train I...  \n",
       "4  The arrival of a charismatic young priest brin...  "
      ]
     },
     "execution_count": 36,
     "metadata": {},
     "output_type": "execute_result"
    }
   ],
   "source": [
    "df.head()"
   ]
  },
  {
   "cell_type": "code",
   "execution_count": 37,
   "id": "6d2f78f3",
   "metadata": {},
   "outputs": [],
   "source": [
    "import re\n",
    "import nltk\n",
    "from nltk.corpus import stopwords\n",
    "from nltk.stem import WordNetLemmatizer"
   ]
  },
  {
   "cell_type": "code",
   "execution_count": 38,
   "id": "2586cb00",
   "metadata": {},
   "outputs": [],
   "source": [
    "stop_words = set(stopwords.words('english'))\n",
    "lemmatizer = WordNetLemmatizer()"
   ]
  },
  {
   "cell_type": "code",
   "execution_count": 39,
   "id": "759e1e9f",
   "metadata": {},
   "outputs": [],
   "source": [
    "def preprocess(text):\n",
    "    if pd.isna(text):\n",
    "        return \"\"\n",
    "    \n",
    "    text = str(text).lower()\n",
    "    text = re.sub(r'[^a-z0-9\\s-]', '', text)\n",
    "    \n",
    "    tokens = [word for word in text.split() \n",
    "              if word not in stop_words and len(word) > 2]\n",
    "    \n",
    "    tokens = [lemmatizer.lemmatize(word) for word in tokens]\n",
    "    \n",
    "    return \" \".join(tokens)"
   ]
  },
  {
   "cell_type": "code",
   "execution_count": 40,
   "id": "c3018d33",
   "metadata": {},
   "outputs": [],
   "source": [
    "def clean_genres(genres):\n",
    "    if pd.isna(genres):\n",
    "        return \"\"\n",
    "    \n",
    "    # Step 1: Lowercase and keep only letters/commas/spaces\n",
    "    text = re.sub(r'[^a-z,\\\\s]', '', str(genres).lower())\n",
    "    \n",
    "    # Step 2: Replace commas with spaces (maintain multi-word genres)\n",
    "    text = text.replace(\",\", \" \")\n",
    "    \n",
    "    # Step 3: Collapse multiple spaces\n",
    "    return \" \".join(text.split())"
   ]
  },
  {
   "cell_type": "code",
   "execution_count": 41,
   "id": "4c57e37e",
   "metadata": {},
   "outputs": [],
   "source": [
    "df['description'] = df['description'].apply(preprocess)\n",
    "df['listed_in'] = df['listed_in'].apply(clean_genres)"
   ]
  },
  {
   "cell_type": "code",
   "execution_count": 42,
   "id": "24699aed",
   "metadata": {},
   "outputs": [],
   "source": [
    "df['combined_features'] = 10 * (' ' + df['listed_in'] + ' ') + ' ' + 3 * (' ' + df['description'] + ' ') + ' ' + df['director'] + ' ' + df['country']"
   ]
  },
  {
   "cell_type": "code",
   "execution_count": 43,
   "id": "a0f16834",
   "metadata": {},
   "outputs": [
    {
     "data": {
      "text/html": [
       "<div>\n",
       "<style scoped>\n",
       "    .dataframe tbody tr th:only-of-type {\n",
       "        vertical-align: middle;\n",
       "    }\n",
       "\n",
       "    .dataframe tbody tr th {\n",
       "        vertical-align: top;\n",
       "    }\n",
       "\n",
       "    .dataframe thead th {\n",
       "        text-align: right;\n",
       "    }\n",
       "</style>\n",
       "<table border=\"1\" class=\"dataframe\">\n",
       "  <thead>\n",
       "    <tr style=\"text-align: right;\">\n",
       "      <th></th>\n",
       "      <th>index</th>\n",
       "      <th>show_id</th>\n",
       "      <th>type</th>\n",
       "      <th>title</th>\n",
       "      <th>director</th>\n",
       "      <th>country</th>\n",
       "      <th>release_year</th>\n",
       "      <th>listed_in</th>\n",
       "      <th>description</th>\n",
       "      <th>combined_features</th>\n",
       "    </tr>\n",
       "  </thead>\n",
       "  <tbody>\n",
       "    <tr>\n",
       "      <th>0</th>\n",
       "      <td>1</td>\n",
       "      <td>s2</td>\n",
       "      <td>TV Show</td>\n",
       "      <td>Blood &amp; Water</td>\n",
       "      <td>Unknown</td>\n",
       "      <td>South Africa</td>\n",
       "      <td>2021</td>\n",
       "      <td>internationaltvshows tvdramas tvmysteries</td>\n",
       "      <td>crossing path party cape town teen set prove w...</td>\n",
       "      <td>internationaltvshows tvdramas tvmysteries  in...</td>\n",
       "    </tr>\n",
       "    <tr>\n",
       "      <th>1</th>\n",
       "      <td>2</td>\n",
       "      <td>s3</td>\n",
       "      <td>TV Show</td>\n",
       "      <td>Ganglands</td>\n",
       "      <td>Julien Leclercq</td>\n",
       "      <td>Unknown</td>\n",
       "      <td>2021</td>\n",
       "      <td>crimetvshows internationaltvshows tvactionadve...</td>\n",
       "      <td>protect family powerful drug lord skilled thie...</td>\n",
       "      <td>crimetvshows internationaltvshows tvactionadv...</td>\n",
       "    </tr>\n",
       "    <tr>\n",
       "      <th>2</th>\n",
       "      <td>3</td>\n",
       "      <td>s4</td>\n",
       "      <td>TV Show</td>\n",
       "      <td>Jailbirds New Orleans</td>\n",
       "      <td>Unknown</td>\n",
       "      <td>Unknown</td>\n",
       "      <td>2021</td>\n",
       "      <td>docuseries realitytv</td>\n",
       "      <td>feud flirtation toilet talk among incarcerated...</td>\n",
       "      <td>docuseries realitytv  docuseries realitytv  d...</td>\n",
       "    </tr>\n",
       "    <tr>\n",
       "      <th>3</th>\n",
       "      <td>4</td>\n",
       "      <td>s5</td>\n",
       "      <td>TV Show</td>\n",
       "      <td>Kota Factory</td>\n",
       "      <td>Unknown</td>\n",
       "      <td>India</td>\n",
       "      <td>2021</td>\n",
       "      <td>internationaltvshows romantictvshows tvcomedies</td>\n",
       "      <td>city coaching center known train india finest ...</td>\n",
       "      <td>internationaltvshows romantictvshows tvcomedi...</td>\n",
       "    </tr>\n",
       "    <tr>\n",
       "      <th>4</th>\n",
       "      <td>5</td>\n",
       "      <td>s6</td>\n",
       "      <td>TV Show</td>\n",
       "      <td>Midnight Mass</td>\n",
       "      <td>Mike Flanagan</td>\n",
       "      <td>Unknown</td>\n",
       "      <td>2021</td>\n",
       "      <td>tvdramas tvhorror tvmysteries</td>\n",
       "      <td>arrival charismatic young priest brings glorio...</td>\n",
       "      <td>tvdramas tvhorror tvmysteries  tvdramas tvhor...</td>\n",
       "    </tr>\n",
       "  </tbody>\n",
       "</table>\n",
       "</div>"
      ],
      "text/plain": [
       "   index show_id     type                  title         director  \\\n",
       "0      1      s2  TV Show          Blood & Water          Unknown   \n",
       "1      2      s3  TV Show              Ganglands  Julien Leclercq   \n",
       "2      3      s4  TV Show  Jailbirds New Orleans          Unknown   \n",
       "3      4      s5  TV Show           Kota Factory          Unknown   \n",
       "4      5      s6  TV Show          Midnight Mass    Mike Flanagan   \n",
       "\n",
       "        country  release_year  \\\n",
       "0  South Africa          2021   \n",
       "1       Unknown          2021   \n",
       "2       Unknown          2021   \n",
       "3         India          2021   \n",
       "4       Unknown          2021   \n",
       "\n",
       "                                           listed_in  \\\n",
       "0          internationaltvshows tvdramas tvmysteries   \n",
       "1  crimetvshows internationaltvshows tvactionadve...   \n",
       "2                               docuseries realitytv   \n",
       "3    internationaltvshows romantictvshows tvcomedies   \n",
       "4                      tvdramas tvhorror tvmysteries   \n",
       "\n",
       "                                         description  \\\n",
       "0  crossing path party cape town teen set prove w...   \n",
       "1  protect family powerful drug lord skilled thie...   \n",
       "2  feud flirtation toilet talk among incarcerated...   \n",
       "3  city coaching center known train india finest ...   \n",
       "4  arrival charismatic young priest brings glorio...   \n",
       "\n",
       "                                   combined_features  \n",
       "0   internationaltvshows tvdramas tvmysteries  in...  \n",
       "1   crimetvshows internationaltvshows tvactionadv...  \n",
       "2   docuseries realitytv  docuseries realitytv  d...  \n",
       "3   internationaltvshows romantictvshows tvcomedi...  \n",
       "4   tvdramas tvhorror tvmysteries  tvdramas tvhor...  "
      ]
     },
     "execution_count": 43,
     "metadata": {},
     "output_type": "execute_result"
    }
   ],
   "source": [
    "df.head()"
   ]
  },
  {
   "cell_type": "code",
   "execution_count": 44,
   "id": "b611be6f",
   "metadata": {},
   "outputs": [],
   "source": [
    "from sklearn.feature_extraction.text import TfidfVectorizer\n",
    "from sklearn.metrics.pairwise import cosine_similarity"
   ]
  },
  {
   "cell_type": "code",
   "execution_count": 45,
   "id": "1df6abd6",
   "metadata": {},
   "outputs": [],
   "source": [
    "tfid = TfidfVectorizer(analyzer='word', stop_words='english')"
   ]
  },
  {
   "cell_type": "code",
   "execution_count": 46,
   "id": "81beb128",
   "metadata": {},
   "outputs": [],
   "source": [
    "matrix = tfid.fit_transform(df['combined_features'])"
   ]
  },
  {
   "cell_type": "code",
   "execution_count": 47,
   "id": "3cd8ead4",
   "metadata": {},
   "outputs": [],
   "source": [
    "similarity_matrix = cosine_similarity(matrix)"
   ]
  },
  {
   "cell_type": "code",
   "execution_count": 48,
   "id": "4315dba8",
   "metadata": {},
   "outputs": [
    {
     "data": {
      "text/plain": [
       "array([[1.00000000e+00, 3.59474336e-02, 2.92925437e-04, ...,\n",
       "        2.83536853e-02, 1.10750316e-01, 2.82615872e-02],\n",
       "       [3.59474336e-02, 1.00000000e+00, 2.82678967e-04, ...,\n",
       "        1.61893919e-04, 3.83621993e-02, 3.11791762e-04],\n",
       "       [2.92925437e-04, 2.82678967e-04, 1.00000000e+00, ...,\n",
       "        3.26029017e-04, 3.12602679e-04, 6.27899814e-04],\n",
       "       ...,\n",
       "       [2.83536853e-02, 1.61893919e-04, 3.26029017e-04, ...,\n",
       "        1.00000000e+00, 1.79031617e-04, 1.20988761e-01],\n",
       "       [1.10750316e-01, 3.83621993e-02, 3.12602679e-04, ...,\n",
       "        1.79031617e-04, 1.00000000e+00, 3.44797283e-04],\n",
       "       [2.82615872e-02, 3.11791762e-04, 6.27899814e-04, ...,\n",
       "        1.20988761e-01, 3.44797283e-04, 1.00000000e+00]],\n",
       "      shape=(2676, 2676))"
      ]
     },
     "execution_count": 48,
     "metadata": {},
     "output_type": "execute_result"
    }
   ],
   "source": [
    "similarity_matrix"
   ]
  },
  {
   "cell_type": "code",
   "execution_count": 49,
   "id": "dfe8af76",
   "metadata": {},
   "outputs": [
    {
     "data": {
      "text/plain": [
       "(2676, 2676)"
      ]
     },
     "execution_count": 49,
     "metadata": {},
     "output_type": "execute_result"
    }
   ],
   "source": [
    "similarity_matrix.shape"
   ]
  },
  {
   "cell_type": "code",
   "execution_count": 50,
   "id": "518ba091",
   "metadata": {},
   "outputs": [],
   "source": [
    "def get_genres(title):\n",
    "    try:\n",
    "        show = df[df['title'].str.lower() == title.lower()].iloc[0]\n",
    "        return show['listed_in']\n",
    "    except IndexError:\n",
    "        return \"Show not found in database\""
   ]
  },
  {
   "cell_type": "code",
   "execution_count": 51,
   "id": "803436ff",
   "metadata": {},
   "outputs": [
    {
     "data": {
      "text/plain": [
       "'crimetvshows tvdramas tvthrillers'"
      ]
     },
     "execution_count": 51,
     "metadata": {},
     "output_type": "execute_result"
    }
   ],
   "source": [
    "get_genres(\"Breaking Bad\")"
   ]
  },
  {
   "cell_type": "code",
   "execution_count": null,
   "id": "0c7f1d26",
   "metadata": {},
   "outputs": [],
   "source": [
    "def recommend(title):\n",
    "    try:\n",
    "        indx = df[df['title'].str.lower() == title.lower()].index[0]\n",
    "\n",
    "        distances = sorted(list(enumerate(similarity_matrix[indx])), reverse = True, key = lambda x: x[1])\n",
    "\n",
    "        recs = []\n",
    "        for i in distances[1:20]:\n",
    "            show_title = df.iloc[i[0]].title\n",
    "            show_genres = get_genres(show_title)\n",
    "            recs.append((show_title, show_genres))\n",
    "        \n",
    "        return recs\n",
    "\n",
    "    except IndexError:\n",
    "        return [(\"Title not found\", \"\")]\n",
    "\n"
   ]
  },
  {
   "cell_type": "code",
   "execution_count": 53,
   "id": "4179cf99",
   "metadata": {},
   "outputs": [
    {
     "data": {
      "text/plain": [
       "[('Kakegurui', 'internationaltvshows tvdramas tvthrillers'),\n",
       " ('Gonul', 'internationaltvshows tvdramas tvthrillers'),\n",
       " ('Children of Adam', 'internationaltvshows tvdramas tvthrillers'),\n",
       " ('American Odyssey', 'tvdramas tvthrillers'),\n",
       " ('Nobel', 'internationaltvshows tvdramas tvthrillers'),\n",
       " ('50M2', 'internationaltvshows tvdramas tvthrillers'),\n",
       " ('House of Cards', 'tvdramas tvthrillers'),\n",
       " ('Darwin’s Game', 'animeseries internationaltvshows tvthrillers'),\n",
       " ('Marseille', 'internationaltvshows tvdramas tvthrillers'),\n",
       " ('The Spy', 'internationaltvshows tvdramas tvthrillers'),\n",
       " ('Winter Sun', 'internationaltvshows tvdramas tvthrillers'),\n",
       " ('Fatma', 'internationaltvshows tvdramas tvthrillers'),\n",
       " ('Breaking Bad', 'crimetvshows tvdramas tvthrillers'),\n",
       " ('High-Rise Invasion', 'animeseries internationaltvshows tvthrillers'),\n",
       " ('Containment', 'tvdramas tvthrillers'),\n",
       " ('The Lizzie Borden Chronicles', 'crimetvshows tvdramas tvthrillers'),\n",
       " ('Occupied', 'internationaltvshows tvdramas tvthrillers'),\n",
       " ('Bloodline', 'tvdramas tvmysteries tvthrillers'),\n",
       " ('WHAT / IF', 'tvdramas tvthrillers')]"
      ]
     },
     "execution_count": 53,
     "metadata": {},
     "output_type": "execute_result"
    }
   ],
   "source": [
    "recommend(\"squid game\")"
   ]
  },
  {
   "cell_type": "code",
   "execution_count": 54,
   "id": "cc11ed89",
   "metadata": {},
   "outputs": [],
   "source": [
    "import pickle"
   ]
  },
  {
   "cell_type": "code",
   "execution_count": 55,
   "id": "4de1f6a7",
   "metadata": {},
   "outputs": [],
   "source": [
    "pickle.dump(similarity_matrix, open(\"similar.pkl\", \"wb\"))"
   ]
  },
  {
   "cell_type": "code",
   "execution_count": 56,
   "id": "702fbb8d",
   "metadata": {},
   "outputs": [],
   "source": [
    "pickle.dump(df, open(\"df.pkl\", \"wb\"))"
   ]
  }
 ],
 "metadata": {
  "kernelspec": {
   "display_name": "Python 3",
   "language": "python",
   "name": "python3"
  },
  "language_info": {
   "codemirror_mode": {
    "name": "ipython",
    "version": 3
   },
   "file_extension": ".py",
   "mimetype": "text/x-python",
   "name": "python",
   "nbconvert_exporter": "python",
   "pygments_lexer": "ipython3",
   "version": "3.11.9"
  }
 },
 "nbformat": 4,
 "nbformat_minor": 5
}
